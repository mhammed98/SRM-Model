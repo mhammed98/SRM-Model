{
 "cells": [
  {
   "cell_type": "code",
   "execution_count": null,
   "metadata": {
    "id": "p8aJX3_SOLvR"
   },
   "outputs": [],
   "source": [
    "import pandas as pd\n",
    "\n",
    "df=pd.read_excel(\"/content/data.xlsx\")\n"
   ]
  },
  {
   "cell_type": "code",
   "execution_count": null,
   "metadata": {
    "id": "I2swofSpO8AO"
   },
   "outputs": [],
   "source": [
    "\n",
    "del df['supplier_city']\n",
    "\n",
    "del df['Device_name']"
   ]
  },
  {
   "cell_type": "code",
   "execution_count": null,
   "metadata": {
    "colab": {
     "base_uri": "https://localhost:8080/",
     "height": 414
    },
    "id": "Pc768PMWRxa3",
    "outputId": "5fa9790a-cdc6-4281-97da-0aba880a6708"
   },
   "outputs": [
    {
     "data": {
      "text/html": [
       "<div>\n",
       "<style scoped>\n",
       "    .dataframe tbody tr th:only-of-type {\n",
       "        vertical-align: middle;\n",
       "    }\n",
       "\n",
       "    .dataframe tbody tr th {\n",
       "        vertical-align: top;\n",
       "    }\n",
       "\n",
       "    .dataframe thead th {\n",
       "        text-align: right;\n",
       "    }\n",
       "</style>\n",
       "<table border=\"1\" class=\"dataframe\">\n",
       "  <thead>\n",
       "    <tr style=\"text-align: right;\">\n",
       "      <th></th>\n",
       "      <th>price</th>\n",
       "      <th>shipping_cost</th>\n",
       "      <th>total_price</th>\n",
       "      <th>shipping_time</th>\n",
       "      <th>availability</th>\n",
       "      <th>quality</th>\n",
       "      <th>supplier_name</th>\n",
       "      <th>supplier_country</th>\n",
       "      <th>supplier_feedback</th>\n",
       "    </tr>\n",
       "  </thead>\n",
       "  <tbody>\n",
       "    <tr>\n",
       "      <th>0</th>\n",
       "      <td>100</td>\n",
       "      <td>3</td>\n",
       "      <td>103</td>\n",
       "      <td>3</td>\n",
       "      <td>100</td>\n",
       "      <td>1</td>\n",
       "      <td>Beurer</td>\n",
       "      <td>17</td>\n",
       "      <td>4.5</td>\n",
       "    </tr>\n",
       "    <tr>\n",
       "      <th>1</th>\n",
       "      <td>19</td>\n",
       "      <td>3</td>\n",
       "      <td>22</td>\n",
       "      <td>2</td>\n",
       "      <td>33</td>\n",
       "      <td>1</td>\n",
       "      <td>rhino power sales</td>\n",
       "      <td>17</td>\n",
       "      <td>5.0</td>\n",
       "    </tr>\n",
       "    <tr>\n",
       "      <th>2</th>\n",
       "      <td>30</td>\n",
       "      <td>0</td>\n",
       "      <td>30</td>\n",
       "      <td>1</td>\n",
       "      <td>124</td>\n",
       "      <td>1</td>\n",
       "      <td>amazon</td>\n",
       "      <td>17</td>\n",
       "      <td>5.0</td>\n",
       "    </tr>\n",
       "    <tr>\n",
       "      <th>3</th>\n",
       "      <td>20</td>\n",
       "      <td>0</td>\n",
       "      <td>20</td>\n",
       "      <td>2</td>\n",
       "      <td>26</td>\n",
       "      <td>1</td>\n",
       "      <td>amazon</td>\n",
       "      <td>17</td>\n",
       "      <td>4.0</td>\n",
       "    </tr>\n",
       "    <tr>\n",
       "      <th>4</th>\n",
       "      <td>20</td>\n",
       "      <td>5</td>\n",
       "      <td>25</td>\n",
       "      <td>2</td>\n",
       "      <td>196</td>\n",
       "      <td>3</td>\n",
       "      <td>ankovo</td>\n",
       "      <td>17</td>\n",
       "      <td>3.5</td>\n",
       "    </tr>\n",
       "    <tr>\n",
       "      <th>...</th>\n",
       "      <td>...</td>\n",
       "      <td>...</td>\n",
       "      <td>...</td>\n",
       "      <td>...</td>\n",
       "      <td>...</td>\n",
       "      <td>...</td>\n",
       "      <td>...</td>\n",
       "      <td>...</td>\n",
       "      <td>...</td>\n",
       "    </tr>\n",
       "    <tr>\n",
       "      <th>293</th>\n",
       "      <td>1200</td>\n",
       "      <td>100</td>\n",
       "      <td>1300</td>\n",
       "      <td>1</td>\n",
       "      <td>100</td>\n",
       "      <td>3</td>\n",
       "      <td>Zhi Ruo</td>\n",
       "      <td>11</td>\n",
       "      <td>2.0</td>\n",
       "    </tr>\n",
       "    <tr>\n",
       "      <th>294</th>\n",
       "      <td>650</td>\n",
       "      <td>200</td>\n",
       "      <td>850</td>\n",
       "      <td>1</td>\n",
       "      <td>50</td>\n",
       "      <td>1</td>\n",
       "      <td>Hui Yin</td>\n",
       "      <td>11</td>\n",
       "      <td>4.3</td>\n",
       "    </tr>\n",
       "    <tr>\n",
       "      <th>295</th>\n",
       "      <td>400</td>\n",
       "      <td>100</td>\n",
       "      <td>500</td>\n",
       "      <td>3</td>\n",
       "      <td>50</td>\n",
       "      <td>1</td>\n",
       "      <td>Hui Yin</td>\n",
       "      <td>11</td>\n",
       "      <td>4.7</td>\n",
       "    </tr>\n",
       "    <tr>\n",
       "      <th>296</th>\n",
       "      <td>150</td>\n",
       "      <td>50</td>\n",
       "      <td>200</td>\n",
       "      <td>2</td>\n",
       "      <td>100</td>\n",
       "      <td>1</td>\n",
       "      <td>Hui Yin</td>\n",
       "      <td>11</td>\n",
       "      <td>4.0</td>\n",
       "    </tr>\n",
       "    <tr>\n",
       "      <th>297</th>\n",
       "      <td>100</td>\n",
       "      <td>100</td>\n",
       "      <td>200</td>\n",
       "      <td>4</td>\n",
       "      <td>100</td>\n",
       "      <td>1</td>\n",
       "      <td>Ying Yue</td>\n",
       "      <td>11</td>\n",
       "      <td>4.5</td>\n",
       "    </tr>\n",
       "  </tbody>\n",
       "</table>\n",
       "<p>298 rows × 9 columns</p>\n",
       "</div>"
      ],
      "text/plain": [
       "     price  shipping_cost  ...  supplier_country  supplier_feedback\n",
       "0      100              3  ...                17                4.5\n",
       "1       19              3  ...                17                5.0\n",
       "2       30              0  ...                17                5.0\n",
       "3       20              0  ...                17                4.0\n",
       "4       20              5  ...                17                3.5\n",
       "..     ...            ...  ...               ...                ...\n",
       "293   1200            100  ...                11                2.0\n",
       "294    650            200  ...                11                4.3\n",
       "295    400            100  ...                11                4.7\n",
       "296    150             50  ...                11                4.0\n",
       "297    100            100  ...                11                4.5\n",
       "\n",
       "[298 rows x 9 columns]"
      ]
     },
     "execution_count": 13,
     "metadata": {
      "tags": []
     },
     "output_type": "execute_result"
    }
   ],
   "source": [
    "df"
   ]
  },
  {
   "cell_type": "code",
   "execution_count": null,
   "metadata": {
    "id": "JwFljZgZTbPj"
   },
   "outputs": [],
   "source": []
  },
  {
   "cell_type": "code",
   "execution_count": null,
   "metadata": {
    "colab": {
     "base_uri": "https://localhost:8080/",
     "height": 347
    },
    "id": "HA5qkJs1SsWL",
    "outputId": "8c2eb999-384e-47c4-b4f6-f782ef43a11a"
   },
   "outputs": [
    {
     "name": "stderr",
     "output_type": "stream",
     "text": [
      "/usr/local/lib/python3.7/dist-packages/seaborn/_decorators.py:43: FutureWarning: Pass the following variables as keyword args: x, y. From version 0.12, the only valid positional argument will be `data`, and passing other arguments without an explicit keyword will result in an error or misinterpretation.\n",
      "  FutureWarning\n"
     ]
    },
    {
     "data": {
      "image/png": "[encoded data removed]",
      "text/plain": [
       "<Figure size 432x288 with 1 Axes>"
      ]
     },
     "metadata": {
      "tags": []
     },
     "output_type": "display_data"
    }
   ],
   "source": [
    "%matplotlib inline\n",
    "import seaborn as sns\n",
    "import matplotlib.pyplot as plt\n",
    "carrier_count = df['supplier_country'].value_counts()\n",
    "sns.set(style=\"darkgrid\")\n",
    "sns.barplot(carrier_count.index, carrier_count.values, alpha=0.9)\n",
    "plt.title('Frequency Distribution of Carriers')\n",
    "plt.ylabel('Number of Occurrences', fontsize=12)\n",
    "plt.xlabel('Carrier', fontsize=4)\n",
    "plt.show()"
   ]
  },
  {
   "cell_type": "code",
   "execution_count": null,
   "metadata": {
    "colab": {
     "base_uri": "https://localhost:8080/",
     "height": 253
    },
    "id": "mwMIgAU9TEsZ",
    "outputId": "8910832f-366d-4234-fa10-ad0d739d3eb5"
   },
   "outputs": [
    {
     "data": {
      "image/png": "[encoded data removed]",
      "text/plain": [
       "<Figure size 432x288 with 1 Axes>"
      ]
     },
     "metadata": {
      "tags": []
     },
     "output_type": "display_data"
    }
   ],
   "source": [
    "labels = df['supplier_country'].astype('category').cat.categories.tolist()\n",
    "counts = df['supplier_country'].value_counts()\n",
    "sizes = [counts[var_cat] for var_cat in labels]\n",
    "fig1, ax1 = plt.subplots()\n",
    "ax1.pie(sizes, labels=labels, autopct='%1.1f%%', shadow=True) #autopct is show the % on plot\n",
    "ax1.axis('equal')\n",
    "plt.show()"
   ]
  },
  {
   "cell_type": "code",
   "execution_count": null,
   "metadata": {
    "id": "syYCkztBTQWM"
   },
   "outputs": [],
   "source": [
    "replace_map = {'supplier_country': {'unites states': 1,'United States': 1, 'China': 2, 'Italy': 3, 'France': 4,\n",
    "                                  'India': 5, 'Germany': 6, 'Canada': 7 , 'mexico': 8 , 'Spain': 9,'United Kingdom': 10,'Span': 11\n",
    "                           , 'china': 12, 'singapore': 13 , 'france': 14 , 'Egypt': 15,'egypt': 16,'Span': 17\n",
    "                           \n",
    "                           }}"
   ]
  },
  {
   "cell_type": "code",
   "execution_count": null,
   "metadata": {
    "colab": {
     "base_uri": "https://localhost:8080/"
    },
    "id": "UbMENmc_UPEW",
    "outputId": "da9263d1-3e6e-41bb-cbfe-4d7bce14432c"
   },
   "outputs": [
    {
     "name": "stdout",
     "output_type": "stream",
     "text": [
      "{'supplier_country': {1: 1, 2: 2, 3: 3, 4: 4, 5: 5, 6: 6, 7: 7, 8: 8, 9: 9, 10: 10, 11: 11, 12: 12, 13: 13, 14: 14, 15: 15, 16: 16, 17: 17}}\n"
     ]
    }
   ],
   "source": [
    "labels = df['supplier_country'].astype('category').cat.categories.tolist()\n",
    "replace_map_comp = {'supplier_country' : {k: v for k,v in zip(labels,list(range(1,len(labels)+1)))}}\n",
    "\n",
    "print(replace_map_comp)"
   ]
  },
  {
   "cell_type": "code",
   "execution_count": null,
   "metadata": {
    "colab": {
     "base_uri": "https://localhost:8080/"
    },
    "id": "LNYVUjErUh4X",
    "outputId": "55629737-14ee-4f48-ed19-bdb5afcd9847"
   },
   "outputs": [
    {
     "name": "stdout",
     "output_type": "stream",
     "text": [
      "   price  shipping_cost  ...  supplier_country  supplier_feedback\n",
      "0    100              3  ...                17                4.5\n",
      "1     19              3  ...                17                5.0\n",
      "2     30              0  ...                17                5.0\n",
      "3     20              0  ...                17                4.0\n",
      "4     20              5  ...                17                3.5\n",
      "\n",
      "[5 rows x 9 columns]\n"
     ]
    }
   ],
   "source": [
    "df.replace(replace_map_comp, inplace=True)\n",
    "\n",
    "print(df.head())"
   ]
  },
  {
   "cell_type": "code",
   "execution_count": null,
   "metadata": {
    "colab": {
     "base_uri": "https://localhost:8080/",
     "height": 414
    },
    "id": "opROSRkwQWkP",
    "outputId": "9cee6c2e-2128-4ae8-edd4-2c8805f10dad"
   },
   "outputs": [
    {
     "data": {
      "text/html": [
       "<div>\n",
       "<style scoped>\n",
       "    .dataframe tbody tr th:only-of-type {\n",
       "        vertical-align: middle;\n",
       "    }\n",
       "\n",
       "    .dataframe tbody tr th {\n",
       "        vertical-align: top;\n",
       "    }\n",
       "\n",
       "    .dataframe thead th {\n",
       "        text-align: right;\n",
       "    }\n",
       "</style>\n",
       "<table border=\"1\" class=\"dataframe\">\n",
       "  <thead>\n",
       "    <tr style=\"text-align: right;\">\n",
       "      <th></th>\n",
       "      <th>price</th>\n",
       "      <th>shipping_cost</th>\n",
       "      <th>total_price</th>\n",
       "      <th>shipping_time</th>\n",
       "      <th>availability</th>\n",
       "      <th>quality</th>\n",
       "      <th>supplier_name</th>\n",
       "      <th>supplier_country</th>\n",
       "      <th>supplier_feedback</th>\n",
       "    </tr>\n",
       "  </thead>\n",
       "  <tbody>\n",
       "    <tr>\n",
       "      <th>0</th>\n",
       "      <td>100</td>\n",
       "      <td>3</td>\n",
       "      <td>103</td>\n",
       "      <td>3</td>\n",
       "      <td>100</td>\n",
       "      <td>1</td>\n",
       "      <td>Beurer</td>\n",
       "      <td>17</td>\n",
       "      <td>4.5</td>\n",
       "    </tr>\n",
       "    <tr>\n",
       "      <th>1</th>\n",
       "      <td>19</td>\n",
       "      <td>3</td>\n",
       "      <td>22</td>\n",
       "      <td>2</td>\n",
       "      <td>33</td>\n",
       "      <td>1</td>\n",
       "      <td>rhino power sales</td>\n",
       "      <td>17</td>\n",
       "      <td>5.0</td>\n",
       "    </tr>\n",
       "    <tr>\n",
       "      <th>2</th>\n",
       "      <td>30</td>\n",
       "      <td>0</td>\n",
       "      <td>30</td>\n",
       "      <td>1</td>\n",
       "      <td>124</td>\n",
       "      <td>1</td>\n",
       "      <td>amazon</td>\n",
       "      <td>17</td>\n",
       "      <td>5.0</td>\n",
       "    </tr>\n",
       "    <tr>\n",
       "      <th>3</th>\n",
       "      <td>20</td>\n",
       "      <td>0</td>\n",
       "      <td>20</td>\n",
       "      <td>2</td>\n",
       "      <td>26</td>\n",
       "      <td>1</td>\n",
       "      <td>amazon</td>\n",
       "      <td>17</td>\n",
       "      <td>4.0</td>\n",
       "    </tr>\n",
       "    <tr>\n",
       "      <th>4</th>\n",
       "      <td>20</td>\n",
       "      <td>5</td>\n",
       "      <td>25</td>\n",
       "      <td>2</td>\n",
       "      <td>196</td>\n",
       "      <td>3</td>\n",
       "      <td>ankovo</td>\n",
       "      <td>17</td>\n",
       "      <td>3.5</td>\n",
       "    </tr>\n",
       "    <tr>\n",
       "      <th>...</th>\n",
       "      <td>...</td>\n",
       "      <td>...</td>\n",
       "      <td>...</td>\n",
       "      <td>...</td>\n",
       "      <td>...</td>\n",
       "      <td>...</td>\n",
       "      <td>...</td>\n",
       "      <td>...</td>\n",
       "      <td>...</td>\n",
       "    </tr>\n",
       "    <tr>\n",
       "      <th>293</th>\n",
       "      <td>1200</td>\n",
       "      <td>100</td>\n",
       "      <td>1300</td>\n",
       "      <td>1</td>\n",
       "      <td>100</td>\n",
       "      <td>3</td>\n",
       "      <td>Zhi Ruo</td>\n",
       "      <td>11</td>\n",
       "      <td>2.0</td>\n",
       "    </tr>\n",
       "    <tr>\n",
       "      <th>294</th>\n",
       "      <td>650</td>\n",
       "      <td>200</td>\n",
       "      <td>850</td>\n",
       "      <td>1</td>\n",
       "      <td>50</td>\n",
       "      <td>1</td>\n",
       "      <td>Hui Yin</td>\n",
       "      <td>11</td>\n",
       "      <td>4.3</td>\n",
       "    </tr>\n",
       "    <tr>\n",
       "      <th>295</th>\n",
       "      <td>400</td>\n",
       "      <td>100</td>\n",
       "      <td>500</td>\n",
       "      <td>3</td>\n",
       "      <td>50</td>\n",
       "      <td>1</td>\n",
       "      <td>Hui Yin</td>\n",
       "      <td>11</td>\n",
       "      <td>4.7</td>\n",
       "    </tr>\n",
       "    <tr>\n",
       "      <th>296</th>\n",
       "      <td>150</td>\n",
       "      <td>50</td>\n",
       "      <td>200</td>\n",
       "      <td>2</td>\n",
       "      <td>100</td>\n",
       "      <td>1</td>\n",
       "      <td>Hui Yin</td>\n",
       "      <td>11</td>\n",
       "      <td>4.0</td>\n",
       "    </tr>\n",
       "    <tr>\n",
       "      <th>297</th>\n",
       "      <td>100</td>\n",
       "      <td>100</td>\n",
       "      <td>200</td>\n",
       "      <td>4</td>\n",
       "      <td>100</td>\n",
       "      <td>1</td>\n",
       "      <td>Ying Yue</td>\n",
       "      <td>11</td>\n",
       "      <td>4.5</td>\n",
       "    </tr>\n",
       "  </tbody>\n",
       "</table>\n",
       "<p>298 rows × 9 columns</p>\n",
       "</div>"
      ],
      "text/plain": [
       "     price  shipping_cost  ...  supplier_country  supplier_feedback\n",
       "0      100              3  ...                17                4.5\n",
       "1       19              3  ...                17                5.0\n",
       "2       30              0  ...                17                5.0\n",
       "3       20              0  ...                17                4.0\n",
       "4       20              5  ...                17                3.5\n",
       "..     ...            ...  ...               ...                ...\n",
       "293   1200            100  ...                11                2.0\n",
       "294    650            200  ...                11                4.3\n",
       "295    400            100  ...                11                4.7\n",
       "296    150             50  ...                11                4.0\n",
       "297    100            100  ...                11                4.5\n",
       "\n",
       "[298 rows x 9 columns]"
      ]
     },
     "execution_count": 17,
     "metadata": {
      "tags": []
     },
     "output_type": "execute_result"
    }
   ],
   "source": [
    "df"
   ]
  },
  {
   "cell_type": "code",
   "execution_count": null,
   "metadata": {
    "id": "pNOScb8rVxLh"
   },
   "outputs": [],
   "source": []
  },
  {
   "cell_type": "code",
   "execution_count": null,
   "metadata": {
    "colab": {
     "base_uri": "https://localhost:8080/",
     "height": 414
    },
    "id": "71TMQKNGV9M2",
    "outputId": "2c6c4203-9ea0-455f-e8ad-d254812441e2"
   },
   "outputs": [
    {
     "data": {
      "text/html": [
       "<div>\n",
       "<style scoped>\n",
       "    .dataframe tbody tr th:only-of-type {\n",
       "        vertical-align: middle;\n",
       "    }\n",
       "\n",
       "    .dataframe tbody tr th {\n",
       "        vertical-align: top;\n",
       "    }\n",
       "\n",
       "    .dataframe thead th {\n",
       "        text-align: right;\n",
       "    }\n",
       "</style>\n",
       "<table border=\"1\" class=\"dataframe\">\n",
       "  <thead>\n",
       "    <tr style=\"text-align: right;\">\n",
       "      <th></th>\n",
       "      <th>Unnamed: 0</th>\n",
       "      <th>price</th>\n",
       "      <th>shipping_cost</th>\n",
       "      <th>total_price</th>\n",
       "      <th>shipping_time</th>\n",
       "      <th>availability</th>\n",
       "      <th>quality</th>\n",
       "      <th>supplier_country</th>\n",
       "      <th>supplier_feedback</th>\n",
       "    </tr>\n",
       "  </thead>\n",
       "  <tbody>\n",
       "    <tr>\n",
       "      <th>0</th>\n",
       "      <td>0</td>\n",
       "      <td>100</td>\n",
       "      <td>3</td>\n",
       "      <td>103</td>\n",
       "      <td>3</td>\n",
       "      <td>100</td>\n",
       "      <td>1</td>\n",
       "      <td>17</td>\n",
       "      <td>4.5</td>\n",
       "    </tr>\n",
       "    <tr>\n",
       "      <th>1</th>\n",
       "      <td>1</td>\n",
       "      <td>19</td>\n",
       "      <td>3</td>\n",
       "      <td>22</td>\n",
       "      <td>2</td>\n",
       "      <td>33</td>\n",
       "      <td>1</td>\n",
       "      <td>17</td>\n",
       "      <td>5.0</td>\n",
       "    </tr>\n",
       "    <tr>\n",
       "      <th>2</th>\n",
       "      <td>2</td>\n",
       "      <td>30</td>\n",
       "      <td>0</td>\n",
       "      <td>30</td>\n",
       "      <td>1</td>\n",
       "      <td>124</td>\n",
       "      <td>1</td>\n",
       "      <td>17</td>\n",
       "      <td>5.0</td>\n",
       "    </tr>\n",
       "    <tr>\n",
       "      <th>3</th>\n",
       "      <td>3</td>\n",
       "      <td>20</td>\n",
       "      <td>0</td>\n",
       "      <td>20</td>\n",
       "      <td>2</td>\n",
       "      <td>26</td>\n",
       "      <td>1</td>\n",
       "      <td>17</td>\n",
       "      <td>4.0</td>\n",
       "    </tr>\n",
       "    <tr>\n",
       "      <th>4</th>\n",
       "      <td>4</td>\n",
       "      <td>20</td>\n",
       "      <td>5</td>\n",
       "      <td>25</td>\n",
       "      <td>2</td>\n",
       "      <td>196</td>\n",
       "      <td>3</td>\n",
       "      <td>17</td>\n",
       "      <td>3.5</td>\n",
       "    </tr>\n",
       "    <tr>\n",
       "      <th>...</th>\n",
       "      <td>...</td>\n",
       "      <td>...</td>\n",
       "      <td>...</td>\n",
       "      <td>...</td>\n",
       "      <td>...</td>\n",
       "      <td>...</td>\n",
       "      <td>...</td>\n",
       "      <td>...</td>\n",
       "      <td>...</td>\n",
       "    </tr>\n",
       "    <tr>\n",
       "      <th>293</th>\n",
       "      <td>293</td>\n",
       "      <td>1200</td>\n",
       "      <td>100</td>\n",
       "      <td>1300</td>\n",
       "      <td>1</td>\n",
       "      <td>100</td>\n",
       "      <td>3</td>\n",
       "      <td>12</td>\n",
       "      <td>2.0</td>\n",
       "    </tr>\n",
       "    <tr>\n",
       "      <th>294</th>\n",
       "      <td>294</td>\n",
       "      <td>650</td>\n",
       "      <td>200</td>\n",
       "      <td>850</td>\n",
       "      <td>1</td>\n",
       "      <td>50</td>\n",
       "      <td>1</td>\n",
       "      <td>12</td>\n",
       "      <td>4.3</td>\n",
       "    </tr>\n",
       "    <tr>\n",
       "      <th>295</th>\n",
       "      <td>295</td>\n",
       "      <td>400</td>\n",
       "      <td>100</td>\n",
       "      <td>500</td>\n",
       "      <td>3</td>\n",
       "      <td>50</td>\n",
       "      <td>1</td>\n",
       "      <td>12</td>\n",
       "      <td>4.7</td>\n",
       "    </tr>\n",
       "    <tr>\n",
       "      <th>296</th>\n",
       "      <td>296</td>\n",
       "      <td>150</td>\n",
       "      <td>50</td>\n",
       "      <td>200</td>\n",
       "      <td>2</td>\n",
       "      <td>100</td>\n",
       "      <td>1</td>\n",
       "      <td>12</td>\n",
       "      <td>4.0</td>\n",
       "    </tr>\n",
       "    <tr>\n",
       "      <th>297</th>\n",
       "      <td>297</td>\n",
       "      <td>100</td>\n",
       "      <td>100</td>\n",
       "      <td>200</td>\n",
       "      <td>4</td>\n",
       "      <td>100</td>\n",
       "      <td>1</td>\n",
       "      <td>12</td>\n",
       "      <td>4.5</td>\n",
       "    </tr>\n",
       "  </tbody>\n",
       "</table>\n",
       "<p>298 rows × 9 columns</p>\n",
       "</div>"
      ],
      "text/plain": [
       "     Unnamed: 0  price  ...  supplier_country  supplier_feedback\n",
       "0             0    100  ...                17                4.5\n",
       "1             1     19  ...                17                5.0\n",
       "2             2     30  ...                17                5.0\n",
       "3             3     20  ...                17                4.0\n",
       "4             4     20  ...                17                3.5\n",
       "..          ...    ...  ...               ...                ...\n",
       "293         293   1200  ...                12                2.0\n",
       "294         294    650  ...                12                4.3\n",
       "295         295    400  ...                12                4.7\n",
       "296         296    150  ...                12                4.0\n",
       "297         297    100  ...                12                4.5\n",
       "\n",
       "[298 rows x 9 columns]"
      ]
     },
     "execution_count": 33,
     "metadata": {
      "tags": []
     },
     "output_type": "execute_result"
    }
   ],
   "source": [
    "df=pd.read_csv(\"/content/mydata.csv\")\n",
    "df"
   ]
  },
  {
   "cell_type": "code",
   "execution_count": null,
   "metadata": {
    "id": "eUFLLCrDXlv4"
   },
   "outputs": [],
   "source": [
    "Y=df[\"quality\"]\n",
    "y=df[\"quality\"]\n"
   ]
  },
  {
   "cell_type": "code",
   "execution_count": null,
   "metadata": {
    "colab": {
     "base_uri": "https://localhost:8080/",
     "height": 414
    },
    "id": "aPzb1XveXbKQ",
    "outputId": "4aea0b48-b92b-4b6e-c381-f32ac9b767ff"
   },
   "outputs": [
    {
     "data": {
      "text/html": [
       "<div>\n",
       "<style scoped>\n",
       "    .dataframe tbody tr th:only-of-type {\n",
       "        vertical-align: middle;\n",
       "    }\n",
       "\n",
       "    .dataframe tbody tr th {\n",
       "        vertical-align: top;\n",
       "    }\n",
       "\n",
       "    .dataframe thead th {\n",
       "        text-align: right;\n",
       "    }\n",
       "</style>\n",
       "<table border=\"1\" class=\"dataframe\">\n",
       "  <thead>\n",
       "    <tr style=\"text-align: right;\">\n",
       "      <th></th>\n",
       "      <th>Unnamed: 0</th>\n",
       "      <th>price</th>\n",
       "      <th>shipping_cost</th>\n",
       "      <th>total_price</th>\n",
       "      <th>shipping_time</th>\n",
       "      <th>availability</th>\n",
       "      <th>supplier_country</th>\n",
       "      <th>supplier_feedback</th>\n",
       "    </tr>\n",
       "  </thead>\n",
       "  <tbody>\n",
       "    <tr>\n",
       "      <th>0</th>\n",
       "      <td>0</td>\n",
       "      <td>100</td>\n",
       "      <td>3</td>\n",
       "      <td>103</td>\n",
       "      <td>3</td>\n",
       "      <td>100</td>\n",
       "      <td>17</td>\n",
       "      <td>4.5</td>\n",
       "    </tr>\n",
       "    <tr>\n",
       "      <th>1</th>\n",
       "      <td>1</td>\n",
       "      <td>19</td>\n",
       "      <td>3</td>\n",
       "      <td>22</td>\n",
       "      <td>2</td>\n",
       "      <td>33</td>\n",
       "      <td>17</td>\n",
       "      <td>5.0</td>\n",
       "    </tr>\n",
       "    <tr>\n",
       "      <th>2</th>\n",
       "      <td>2</td>\n",
       "      <td>30</td>\n",
       "      <td>0</td>\n",
       "      <td>30</td>\n",
       "      <td>1</td>\n",
       "      <td>124</td>\n",
       "      <td>17</td>\n",
       "      <td>5.0</td>\n",
       "    </tr>\n",
       "    <tr>\n",
       "      <th>3</th>\n",
       "      <td>3</td>\n",
       "      <td>20</td>\n",
       "      <td>0</td>\n",
       "      <td>20</td>\n",
       "      <td>2</td>\n",
       "      <td>26</td>\n",
       "      <td>17</td>\n",
       "      <td>4.0</td>\n",
       "    </tr>\n",
       "    <tr>\n",
       "      <th>4</th>\n",
       "      <td>4</td>\n",
       "      <td>20</td>\n",
       "      <td>5</td>\n",
       "      <td>25</td>\n",
       "      <td>2</td>\n",
       "      <td>196</td>\n",
       "      <td>17</td>\n",
       "      <td>3.5</td>\n",
       "    </tr>\n",
       "    <tr>\n",
       "      <th>...</th>\n",
       "      <td>...</td>\n",
       "      <td>...</td>\n",
       "      <td>...</td>\n",
       "      <td>...</td>\n",
       "      <td>...</td>\n",
       "      <td>...</td>\n",
       "      <td>...</td>\n",
       "      <td>...</td>\n",
       "    </tr>\n",
       "    <tr>\n",
       "      <th>293</th>\n",
       "      <td>293</td>\n",
       "      <td>1200</td>\n",
       "      <td>100</td>\n",
       "      <td>1300</td>\n",
       "      <td>1</td>\n",
       "      <td>100</td>\n",
       "      <td>12</td>\n",
       "      <td>2.0</td>\n",
       "    </tr>\n",
       "    <tr>\n",
       "      <th>294</th>\n",
       "      <td>294</td>\n",
       "      <td>650</td>\n",
       "      <td>200</td>\n",
       "      <td>850</td>\n",
       "      <td>1</td>\n",
       "      <td>50</td>\n",
       "      <td>12</td>\n",
       "      <td>4.3</td>\n",
       "    </tr>\n",
       "    <tr>\n",
       "      <th>295</th>\n",
       "      <td>295</td>\n",
       "      <td>400</td>\n",
       "      <td>100</td>\n",
       "      <td>500</td>\n",
       "      <td>3</td>\n",
       "      <td>50</td>\n",
       "      <td>12</td>\n",
       "      <td>4.7</td>\n",
       "    </tr>\n",
       "    <tr>\n",
       "      <th>296</th>\n",
       "      <td>296</td>\n",
       "      <td>150</td>\n",
       "      <td>50</td>\n",
       "      <td>200</td>\n",
       "      <td>2</td>\n",
       "      <td>100</td>\n",
       "      <td>12</td>\n",
       "      <td>4.0</td>\n",
       "    </tr>\n",
       "    <tr>\n",
       "      <th>297</th>\n",
       "      <td>297</td>\n",
       "      <td>100</td>\n",
       "      <td>100</td>\n",
       "      <td>200</td>\n",
       "      <td>4</td>\n",
       "      <td>100</td>\n",
       "      <td>12</td>\n",
       "      <td>4.5</td>\n",
       "    </tr>\n",
       "  </tbody>\n",
       "</table>\n",
       "<p>298 rows × 8 columns</p>\n",
       "</div>"
      ],
      "text/plain": [
       "     Unnamed: 0  price  ...  supplier_country  supplier_feedback\n",
       "0             0    100  ...                17                4.5\n",
       "1             1     19  ...                17                5.0\n",
       "2             2     30  ...                17                5.0\n",
       "3             3     20  ...                17                4.0\n",
       "4             4     20  ...                17                3.5\n",
       "..          ...    ...  ...               ...                ...\n",
       "293         293   1200  ...                12                2.0\n",
       "294         294    650  ...                12                4.3\n",
       "295         295    400  ...                12                4.7\n",
       "296         296    150  ...                12                4.0\n",
       "297         297    100  ...                12                4.5\n",
       "\n",
       "[298 rows x 8 columns]"
      ]
     },
     "execution_count": 35,
     "metadata": {
      "tags": []
     },
     "output_type": "execute_result"
    }
   ],
   "source": [
    "del df['quality']\n",
    "X=df\n",
    "X"
   ]
  },
  {
   "cell_type": "code",
   "execution_count": null,
   "metadata": {
    "id": "80SlmMikWw61"
   },
   "outputs": [],
   "source": [
    "#----------------------------------------------------\n",
    "#Import Libraries\n",
    "from sklearn.model_selection import train_test_split\n",
    "#----------------------------------------------------\n",
    "#Splitting data\n",
    "\n",
    "X_train, X_test, y_train, y_test = train_test_split(X, y, test_size=0.20, random_state=44, shuffle =True)\n",
    "\n",
    "#Splitted Data\n",
    "#print('X_train shape is ' , X_train.shape)\n",
    "#print('X_test shape is ' , X_test.shape)\n",
    "#print('y_train shape is ' , y_train.shape)\n",
    "#print('y_test shape is ' , y_test.shape)"
   ]
  },
  {
   "cell_type": "code",
   "execution_count": 56,
   "metadata": {
    "id": "8Ia0ddtWWLd1"
   },
   "outputs": [],
   "source": [
    "# Import Libraries\n",
    "from sklearn.metrics import precision_recall_fscore_support\n",
    "from sklearn.metrics import average_precision_score\n",
    "from sklearn.metrics import recall_score\n",
    "from sklearn.metrics import accuracy_score"
   ]
  },
  {
   "cell_type": "code",
   "execution_count": null,
   "metadata": {
    "colab": {
     "base_uri": "https://localhost:8080/"
    },
    "id": "d5F2MkWAWqif",
    "outputId": "e4ddb7f8-fad5-405f-8965-e29b61e1b522"
   },
   "outputs": [
    {
     "name": "stdout",
     "output_type": "stream",
     "text": [
      "SVCModel Train Score is :  0.9957983193277311\n",
      "SVCModel Test Score is :  0.55\n",
      "Predicted Value for SVCModel is :  ['1' '1' '2' '1' '1' '1' '1' '1' '1' '1']\n"
     ]
    },
    {
     "name": "stderr",
     "output_type": "stream",
     "text": [
      "/usr/local/lib/python3.7/dist-packages/sklearn/svm/_base.py:231: ConvergenceWarning: Solver terminated early (max_iter=100).  Consider pre-processing your data with StandardScaler or MinMaxScaler.\n",
      "  % self.max_iter, ConvergenceWarning)\n"
     ]
    }
   ],
   "source": [
    "#----------------------------------------------------\n",
    "#Import Libraries\n",
    "from sklearn.svm import SVC\n",
    "#----------------------------------------------------\n",
    "#Applying SVC Model \n",
    "\n",
    "'''\n",
    "sklearn.svm.SVC(C=1.0, kernel=’rbf’, degree=3, gamma=’auto_deprecated’, coef0=0.0, shrinking=True,\n",
    "                probability=False, tol=0.001, cache_size=200, class_weight=None,verbose=False,\n",
    "                max_iter=-1, decision_function_shape='ovr’, random_state=None)\n",
    "'''\n",
    "\n",
    "SVCModel = SVC(kernel= 'rbf',# it can be also linear,poly,sigmoid,precomputed\n",
    "               max_iter=100,C=0.9,gamma='auto')\n",
    "SVCModel.fit(X_train, y_train)\n",
    "\n",
    "#Calculating Details\n",
    "print('SVCModel Train Score is : ' , SVCModel.score(X_train, y_train))\n",
    "print('SVCModel Test Score is : ' , SVCModel.score(X_test, y_test))\n",
    "#print('----------------------------------------------------')\n",
    "\n",
    "#Calculating Prediction\n",
    "y_pred = SVCModel.predict(X_test)\n",
    "print('Predicted Value for SVCModel is : ' , y_pred[:10])"
   ]
  },
  {
   "cell_type": "code",
   "execution_count": 66,
   "metadata": {
    "colab": {
     "base_uri": "https://localhost:8080/"
    },
    "id": "ekGUW8RS5sN4",
    "outputId": "d60cfcfd-151f-45fa-a7f5-04ee35f079d6"
   },
   "outputs": [
    {
     "data": {
      "text/plain": [
       "array(['1', '1', '2', '1', '1', '1', '1', '1', '1', '1', '1', '1', '1',\n",
       "       '1', '1', '1', '1', '1', '1', '1', '1', '1', '1', '1', '1', '1',\n",
       "       '1', '1', '1', '1', '1', '1', '1', '1', '1', '1', '1', '1', '1',\n",
       "       '1', '1', '1', '1', '1', '1', '1', '1', '1', '1', '1', '1', '1',\n",
       "       '1', '1', '1', '1', '1', '1', '1', '1'], dtype=object)"
      ]
     },
     "execution_count": 66,
     "metadata": {
      "tags": []
     },
     "output_type": "execute_result"
    }
   ],
   "source": [
    "pred_y = SVCModel.predict(X_test)\n",
    "pred_y"
   ]
  },
  {
   "cell_type": "code",
   "execution_count": null,
   "metadata": {
    "id": "mcfJj6jS3ptl"
   },
   "outputs": [],
   "source": [
    "\n",
    "\n",
    "pred_y = SVCModel.predict(X_test)\n",
    "\n",
    "accuracy = accuracy_score(y_test, pred_y)\n",
    "#recall=precision_recall_fscore_support(train_y, pred_y)\n",
    "average_precision = average_precision_score(y_test, pred_y)\n",
    "average_recall= recall_score(y_test, pred_y, average='macro')\n",
    "\n",
    "print('Average precision-recall score: {0:0.2f}'.format(average_precision),l)\n",
    "print( 'Accuracy', accuracy,'precision',average_precision,'recall',average_recall)\n"
   ]
  },
  {
   "cell_type": "code",
   "execution_count": 70,
   "metadata": {
    "colab": {
     "base_uri": "https://localhost:8080/"
    },
    "id": "prEAkSAu6ODk",
    "outputId": "bb957024-5ae5-4208-b1dc-0d4dae2f2433"
   },
   "outputs": [
    {
     "name": "stdout",
     "output_type": "stream",
     "text": [
      "F1 Score is :  0.55\n"
     ]
    }
   ],
   "source": [
    "# Import Libraries\n",
    "from sklearn.metrics import f1_score\n",
    "#Import Libraries\n",
    "from sklearn.metrics import confusion_matrix\n",
    "import seaborn as sns\n",
    "import matplotlib.pyplot as plt\n",
    "from sklearn.metrics import accuracy_score\n",
    "from sklearn.metrics import f1_score\n",
    "from sklearn.metrics import recall_score\n",
    "from sklearn.metrics import precision_score\n",
    "from sklearn.metrics import precision_recall_fscore_support\n",
    "#----------------------------------------------------\n",
    "pred_y = SVCModel.predict(X_test)\n",
    "\n",
    "#----------------------------------------------------\n",
    "#Calculating F1 Score  : 2 * (precision * recall) / (precision + recall)\n",
    "# f1_score(y_true, y_pred, labels=None, pos_label=1, average=’binary’, sample_weight=None)\n",
    "\n",
    "F1Score = f1_score(y_test, pred_y, average='micro') #it can be : binary,macro,weighted,samples\n",
    "print('F1 Score is : ', F1Score)"
   ]
  },
  {
   "cell_type": "code",
   "execution_count": 72,
   "metadata": {
    "colab": {
     "base_uri": "https://localhost:8080/",
     "height": 427
    },
    "id": "mPXwMCJm6gIE",
    "outputId": "1cab3608-7f15-4f82-903e-1d91a0813857"
   },
   "outputs": [
    {
     "name": "stdout",
     "output_type": "stream",
     "text": [
      "Confusion Matrix is : \n",
      " [[32  0  0]\n",
      " [13  1  0]\n",
      " [14  0  0]]\n"
     ]
    },
    {
     "data": {
      "image/png": "[encoded data removed]",
      "text/plain": [
       "<Figure size 432x288 with 2 Axes>"
      ]
     },
     "metadata": {
      "tags": []
     },
     "output_type": "display_data"
    },
    {
     "name": "stdout",
     "output_type": "stream",
     "text": [
      "Accuracy Score is :  33\n",
      "F1 Score is :  0.55\n",
      "Recall Score is :  0.55\n",
      "Precision Score is :  0.55\n",
      "Precision Recall Score is :  (0.55, 0.55, 0.55, None)\n"
     ]
    }
   ],
   "source": [
    "#----------------------------------------------------\n",
    "y_pred = SVCModel.predict(X_test)\n",
    "\n",
    "#----------------------------------------------------\n",
    "#Calculating Confusion Matrix\n",
    "CM = confusion_matrix(y_test, y_pred)\n",
    "print('Confusion Matrix is : \\n', CM)\n",
    "\n",
    "# drawing confusion matrix\n",
    "sns.heatmap(CM, center = True)\n",
    "plt.show()\n",
    "\n",
    "#----------------------------------------------------\n",
    "#Calculating Accuracy Score  : ((TP + TN) / float(TP + TN + FP + FN))\n",
    "AccScore = accuracy_score(y_test, y_pred, normalize=False)\n",
    "print('Accuracy Score is : ', AccScore)\n",
    "\n",
    "#----------------------------------------------------\n",
    "#Calculating F1 Score  : 2 * (precision * recall) / (precision + recall)\n",
    "# f1_score(y_true, y_pred, labels=None, pos_label=1, average=’binary’, sample_weight=None)\n",
    "\n",
    "F1Score = f1_score(y_test, y_pred, average='micro') #it can be : binary,macro,weighted,samples\n",
    "print('F1 Score is : ', F1Score)\n",
    "\n",
    "#----------------------------------------------------\n",
    "#Calculating Recall Score : (Sensitivity) (TP / float(TP + FN))   1 / 1+2  \n",
    "# recall_score(y_true, y_pred, labels=None, pos_label=1, average=’binary’, sample_weight=None)\n",
    "\n",
    "RecallScore = recall_score(y_test, y_pred, average='micro') #it can be : binary,macro,weighted,samples\n",
    "print('Recall Score is : ', RecallScore)\n",
    "\n",
    "#----------------------------------------------------\n",
    "#Calculating Precision Score : (Specificity) #(TP / float(TP + FP))  \n",
    "# precision_score(y_true, y_pred, labels=None, pos_label=1, average=’binary’,sample_weight=None)\n",
    "\n",
    "PrecisionScore = precision_score(y_test, y_pred, average='micro') #it can be : binary,macro,weighted,samples\n",
    "print('Precision Score is : ', PrecisionScore)\n",
    "\n",
    "#----------------------------------------------------\n",
    "#Calculating Precision recall Score :  \n",
    "#metrics.precision_recall_fscore_support(y_true, y_pred, beta=1.0, labels=None, pos_label=1, average=\n",
    "#                                        None, warn_for = ('precision’,’recall’, ’f-score’), sample_weight=None)\n",
    "\n",
    "PrecisionRecallScore = precision_recall_fscore_support(y_test, y_pred, average='micro') #it can be : binary,macro,weighted,samples\n",
    "print('Precision Recall Score is : ', PrecisionRecallScore)"
   ]
  },
  {
   "cell_type": "code",
   "execution_count": null,
   "metadata": {
    "colab": {
     "base_uri": "https://localhost:8080/"
    },
    "id": "EUAOpMZdeBnl",
    "outputId": "15db6f9e-1452-421b-f396-4a014f8fd1ab"
   },
   "outputs": [
    {
     "name": "stdout",
     "output_type": "stream",
     "text": [
      "DecisionTreeClassifierModel Train Score is :  0.9831932773109243\n",
      "DecisionTreeClassifierModel Test Score is :  0.9166666666666666\n",
      "DecisionTreeClassifierModel Classes are :  ['1' '2' '3' 'goog']\n",
      "DecisionTreeClassifierModel feature importances are :  [0.08761719 0.06113662 0.         0.03763688 0.00138276 0.05622362\n",
      " 0.08715564 0.66884729]\n"
     ]
    }
   ],
   "source": [
    "#----------------------------------------------------\n",
    "#Import Libraries\n",
    "from sklearn.tree import DecisionTreeClassifier\n",
    "#----------------------------------------------------\n",
    "#Applying DecisionTreeClassifier Model \n",
    "\n",
    "'''\n",
    "sklearn.tree.DecisionTreeClassifier(criterion='gini’, splitter=’best’, max_depth=None,min_samples_split=2,\n",
    "                                    min_samples_leaf=1,min_weight_fraction_leaf=0.0,max_features=None,\n",
    "                                    random_state=None, max_leaf_nodes=None,min_impurity_decrease=0.0,\n",
    "                                    min_impurity_split=None, class_weight=None,presort=False)\n",
    "'''\n",
    "\n",
    "DecisionTreeClassifierModel = DecisionTreeClassifier(criterion='gini',max_depth=7,random_state=33) #criterion can be entropy\n",
    "DecisionTreeClassifierModel.fit(X_train, y_train)\n",
    "\n",
    "#Calculating Details\n",
    "print('DecisionTreeClassifierModel Train Score is : ' , DecisionTreeClassifierModel.score(X_train, y_train))\n",
    "print('DecisionTreeClassifierModel Test Score is : ' , DecisionTreeClassifierModel.score(X_test, y_test))\n",
    "print('DecisionTreeClassifierModel Classes are : ' , DecisionTreeClassifierModel.classes_)\n",
    "print('DecisionTreeClassifierModel feature importances are : ' , DecisionTreeClassifierModel.feature_importances_)\n",
    "#print('----------------------------------------------------')\n",
    "\n",
    "#Calculating Prediction\n",
    "y_pred = DecisionTreeClassifierModel.predict(X_test)\n",
    "y_pred_prob = DecisionTreeClassifierModel.predict_proba(X_test)\n",
    "#print('Predicted Value for DecisionTreeClassifierModel is : ' , y_pred[:10])\n",
    "#print('Prediction Probabilities Value for DecisionTreeClassifierModel is : ' , y_pred_prob[:10])"
   ]
  },
  {
   "cell_type": "code",
   "execution_count": 73,
   "metadata": {
    "colab": {
     "base_uri": "https://localhost:8080/",
     "height": 445
    },
    "id": "A03SP5AK3MXP",
    "outputId": "caaa207a-747d-43da-88fa-191ee21a6d43"
   },
   "outputs": [
    {
     "name": "stdout",
     "output_type": "stream",
     "text": [
      "Confusion Matrix is : \n",
      " [[29  0  2  1]\n",
      " [ 0 14  0  0]\n",
      " [ 2  0 12  0]\n",
      " [ 0  0  0  0]]\n"
     ]
    },
    {
     "data": {
      "image/png": "[encoded data removed]",
      "text/plain": [
       "<Figure size 432x288 with 2 Axes>"
      ]
     },
     "metadata": {
      "tags": []
     },
     "output_type": "display_data"
    },
    {
     "name": "stdout",
     "output_type": "stream",
     "text": [
      "Accuracy Score is :  55\n",
      "F1 Score is :  0.9166666666666666\n",
      "Recall Score is :  0.9166666666666666\n",
      "Precision Score is :  0.9166666666666666\n",
      "Precision Recall Score is :  (0.9166666666666666, 0.9166666666666666, 0.9166666666666666, None)\n"
     ]
    }
   ],
   "source": [
    "#----------------------------------------------------\n",
    "y_pred = DecisionTreeClassifierModel.predict(X_test)\n",
    "\n",
    "#----------------------------------------------------\n",
    "#Calculating Confusion Matrix\n",
    "CM = confusion_matrix(y_test, y_pred)\n",
    "print('Confusion Matrix is : \\n', CM)\n",
    "\n",
    "# drawing confusion matrix\n",
    "sns.heatmap(CM, center = True)\n",
    "plt.show()\n",
    "\n",
    "#----------------------------------------------------\n",
    "#Calculating Accuracy Score  : ((TP + TN) / float(TP + TN + FP + FN))\n",
    "AccScore = accuracy_score(y_test, y_pred, normalize=False)\n",
    "print('Accuracy Score is : ', AccScore)\n",
    "\n",
    "#----------------------------------------------------\n",
    "#Calculating F1 Score  : 2 * (precision * recall) / (precision + recall)\n",
    "# f1_score(y_true, y_pred, labels=None, pos_label=1, average=’binary’, sample_weight=None)\n",
    "\n",
    "F1Score = f1_score(y_test, y_pred, average='micro') #it can be : binary,macro,weighted,samples\n",
    "print('F1 Score is : ', F1Score)\n",
    "\n",
    "#----------------------------------------------------\n",
    "#Calculating Recall Score : (Sensitivity) (TP / float(TP + FN))   1 / 1+2  \n",
    "# recall_score(y_true, y_pred, labels=None, pos_label=1, average=’binary’, sample_weight=None)\n",
    "\n",
    "RecallScore = recall_score(y_test, y_pred, average='micro') #it can be : binary,macro,weighted,samples\n",
    "print('Recall Score is : ', RecallScore)\n",
    "\n",
    "#----------------------------------------------------\n",
    "#Calculating Precision Score : (Specificity) #(TP / float(TP + FP))  \n",
    "# precision_score(y_true, y_pred, labels=None, pos_label=1, average=’binary’,sample_weight=None)\n",
    "\n",
    "PrecisionScore = precision_score(y_test, y_pred, average='micro') #it can be : binary,macro,weighted,samples\n",
    "print('Precision Score is : ', PrecisionScore)\n",
    "\n",
    "#----------------------------------------------------\n",
    "#Calculating Precision recall Score :  \n",
    "#metrics.precision_recall_fscore_support(y_true, y_pred, beta=1.0, labels=None, pos_label=1, average=\n",
    "#                                        None, warn_for = ('precision’,’recall’, ’f-score’), sample_weight=None)\n",
    "\n",
    "PrecisionRecallScore = precision_recall_fscore_support(y_test, y_pred, average='micro') #it can be : binary,macro,weighted,samples\n",
    "print('Precision Recall Score is : ', PrecisionRecallScore)"
   ]
  },
  {
   "cell_type": "code",
   "execution_count": null,
   "metadata": {
    "colab": {
     "base_uri": "https://localhost:8080/"
    },
    "id": "pLr9-WZTaRND",
    "outputId": "e079ba06-7e73-4d49-c9cb-78042ab2b555"
   },
   "outputs": [
    {
     "name": "stdout",
     "output_type": "stream",
     "text": [
      "Predicted Value for SVCModel is :  ['2' '3' '2' '3' '2' '1' '2' '1' '1' '1']\n"
     ]
    }
   ],
   "source": [
    "print('Predicted Value for SVCModel is : ' , y_pred[:10])"
   ]
  },
  {
   "cell_type": "code",
   "execution_count": null,
   "metadata": {
    "id": "2IhiPSgwaViT"
   },
   "outputs": [],
   "source": [
    "import numpy as np"
   ]
  },
  {
   "cell_type": "code",
   "execution_count": 48,
   "metadata": {
    "colab": {
     "base_uri": "https://localhost:8080/"
    },
    "id": "6WvZTyg9aVol",
    "outputId": "012cbaa1-43f2-44ea-c697-46ebd0bba44c"
   },
   "outputs": [
    {
     "data": {
      "text/plain": [
       "array(['goog'], dtype=object)"
      ]
     },
     "execution_count": 48,
     "metadata": {
      "tags": []
     },
     "output_type": "execute_result"
    }
   ],
   "source": [
    "y_pred = DecisionTreeClassifierModel.predict(pd.DataFrame ([76,\t0\t,5,\t1,124\t,17,\t5,7]).T)\n",
    "y_pred\n"
   ]
  }
 ],
 "metadata": {
  "colab": {
   "name": "Untitled14.ipynb",
   "provenance": []
  },
  "kernelspec": {
   "display_name": "Python 3",
   "language": "python",
   "name": "python3"
  },
  "language_info": {
   "codemirror_mode": {
    "name": "ipython",
    "version": 3
   },
   "file_extension": ".py",
   "mimetype": "text/x-python",
   "name": "python",
   "nbconvert_exporter": "python",
   "pygments_lexer": "ipython3",
   "version": "3.8.5"
  }
 },
 "nbformat": 4,
 "nbformat_minor": 1
}
